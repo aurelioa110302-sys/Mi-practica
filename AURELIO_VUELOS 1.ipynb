{
 "cells": [
  {
   "cell_type": "markdown",
   "id": "4f85db8c",
   "metadata": {},
   "source": [
    "PANDAS ANALISIS DATA VUELOS "
   ]
  },
  {
   "cell_type": "code",
   "execution_count": null,
   "id": "0bbdbee5",
   "metadata": {},
   "outputs": [],
   "source": []
  },
  {
   "cell_type": "code",
   "execution_count": null,
   "id": "95322de1",
   "metadata": {},
   "outputs": [
    {
     "ename": "ModuleNotFoundError",
     "evalue": "No module named 'numpy'",
     "output_type": "error",
     "traceback": [
      "\u001b[31m---------------------------------------------------------------------------\u001b[39m",
      "\u001b[31mModuleNotFoundError\u001b[39m                       Traceback (most recent call last)",
      "\u001b[36mCell\u001b[39m\u001b[36m \u001b[39m\u001b[32mIn[3]\u001b[39m\u001b[32m, line 1\u001b[39m\n\u001b[32m----> \u001b[39m\u001b[32m1\u001b[39m \u001b[38;5;28;01mimport\u001b[39;00m\u001b[38;5;250m \u001b[39m\u001b[34;01mnumpy\u001b[39;00m\u001b[38;5;250m \u001b[39m\u001b[38;5;28;01mas\u001b[39;00m\u001b[38;5;250m \u001b[39m\u001b[34;01mnp\u001b[39;00m\n\u001b[32m      3\u001b[39m \u001b[38;5;28;01mimport\u001b[39;00m\u001b[38;5;250m \u001b[39m\u001b[34;01mpandas\u001b[39;00m\u001b[38;5;250m \u001b[39m\u001b[38;5;28;01mas\u001b[39;00m\u001b[38;5;250m \u001b[39m\u001b[34;01mpd\u001b[39;00m \n",
      "\u001b[31mModuleNotFoundError\u001b[39m: No module named 'numpy'"
     ]
    }
   ],
   "source": [
    "import nunpy as np \n",
    "\n",
    "\n",
    "import pandas as pd "
   ]
  },
  {
   "cell_type": "code",
   "execution_count": 4,
   "id": "992337eb",
   "metadata": {},
   "outputs": [
    {
     "name": "stdout",
     "output_type": "stream",
     "text": [
      "Collecting numpy\n",
      "  Downloading numpy-2.3.4-cp313-cp313-win_amd64.whl.metadata (60 kB)\n",
      "Downloading numpy-2.3.4-cp313-cp313-win_amd64.whl (12.8 MB)\n",
      "   ---------------------------------------- 0.0/12.8 MB ? eta -:--:--\n",
      "   ---- ----------------------------------- 1.3/12.8 MB 6.9 MB/s eta 0:00:02\n",
      "   --------- ------------------------------ 2.9/12.8 MB 7.1 MB/s eta 0:00:02\n",
      "   ------------- -------------------------- 4.2/12.8 MB 6.9 MB/s eta 0:00:02\n",
      "   ------------------ --------------------- 5.8/12.8 MB 7.0 MB/s eta 0:00:02\n",
      "   ---------------------- ----------------- 7.3/12.8 MB 7.2 MB/s eta 0:00:01\n",
      "   ---------------------------- ----------- 9.2/12.8 MB 7.3 MB/s eta 0:00:01\n",
      "   -------------------------------- ------- 10.5/12.8 MB 7.2 MB/s eta 0:00:01\n",
      "   ------------------------------------ --- 11.5/12.8 MB 6.9 MB/s eta 0:00:01\n",
      "   ---------------------------------------  12.6/12.8 MB 6.8 MB/s eta 0:00:01\n",
      "   ---------------------------------------- 12.8/12.8 MB 6.6 MB/s  0:00:01\n",
      "Installing collected packages: numpy\n",
      "Successfully installed numpy-2.3.4\n"
     ]
    },
    {
     "name": "stderr",
     "output_type": "stream",
     "text": [
      "\n",
      "[notice] A new release of pip is available: 25.2 -> 25.3\n",
      "[notice] To update, run: python.exe -m pip install --upgrade pip\n"
     ]
    }
   ],
   "source": [
    "!pip install numpy"
   ]
  },
  {
   "cell_type": "code",
   "execution_count": 8,
   "id": "bb36587e",
   "metadata": {},
   "outputs": [
    {
     "name": "stdout",
     "output_type": "stream",
     "text": [
      "Collecting pandas\n",
      "  Downloading pandas-2.3.3-cp313-cp313-win_amd64.whl.metadata (19 kB)\n",
      "Collecting matplotlib\n",
      "  Downloading matplotlib-3.10.7-cp313-cp313-win_amd64.whl.metadata (11 kB)\n",
      "Requirement already satisfied: numpy>=1.26.0 in c:\\users\\aurel\\appdata\\local\\programs\\python\\python313\\lib\\site-packages (from pandas) (2.3.4)\n",
      "Requirement already satisfied: python-dateutil>=2.8.2 in c:\\users\\aurel\\appdata\\roaming\\python\\python313\\site-packages (from pandas) (2.9.0.post0)\n",
      "Collecting pytz>=2020.1 (from pandas)\n",
      "  Downloading pytz-2025.2-py2.py3-none-any.whl.metadata (22 kB)\n",
      "Collecting tzdata>=2022.7 (from pandas)\n",
      "  Downloading tzdata-2025.2-py2.py3-none-any.whl.metadata (1.4 kB)\n",
      "Collecting contourpy>=1.0.1 (from matplotlib)\n",
      "  Downloading contourpy-1.3.3-cp313-cp313-win_amd64.whl.metadata (5.5 kB)\n",
      "Collecting cycler>=0.10 (from matplotlib)\n",
      "  Downloading cycler-0.12.1-py3-none-any.whl.metadata (3.8 kB)\n",
      "Collecting fonttools>=4.22.0 (from matplotlib)\n",
      "  Downloading fonttools-4.60.1-cp313-cp313-win_amd64.whl.metadata (114 kB)\n",
      "Collecting kiwisolver>=1.3.1 (from matplotlib)\n",
      "  Downloading kiwisolver-1.4.9-cp313-cp313-win_amd64.whl.metadata (6.4 kB)\n",
      "Requirement already satisfied: packaging>=20.0 in c:\\users\\aurel\\appdata\\roaming\\python\\python313\\site-packages (from matplotlib) (25.0)\n",
      "Collecting pillow>=8 (from matplotlib)\n",
      "  Downloading pillow-12.0.0-cp313-cp313-win_amd64.whl.metadata (9.0 kB)\n",
      "Collecting pyparsing>=3 (from matplotlib)\n",
      "  Downloading pyparsing-3.2.5-py3-none-any.whl.metadata (5.0 kB)\n",
      "Requirement already satisfied: six>=1.5 in c:\\users\\aurel\\appdata\\roaming\\python\\python313\\site-packages (from python-dateutil>=2.8.2->pandas) (1.17.0)\n",
      "Downloading pandas-2.3.3-cp313-cp313-win_amd64.whl (11.0 MB)\n",
      "   ---------------------------------------- 0.0/11.0 MB ? eta -:--:--\n",
      "   -- ------------------------------------- 0.8/11.0 MB 4.8 MB/s eta 0:00:03\n",
      "   ----- ---------------------------------- 1.6/11.0 MB 4.7 MB/s eta 0:00:03\n",
      "   --------- ------------------------------ 2.6/11.0 MB 4.2 MB/s eta 0:00:02\n",
      "   ------------ --------------------------- 3.4/11.0 MB 4.3 MB/s eta 0:00:02\n",
      "   ------------ --------------------------- 3.4/11.0 MB 4.3 MB/s eta 0:00:02\n",
      "   ------------- -------------------------- 3.7/11.0 MB 2.8 MB/s eta 0:00:03\n",
      "   ------------- -------------------------- 3.7/11.0 MB 2.8 MB/s eta 0:00:03\n",
      "   ------------- -------------------------- 3.7/11.0 MB 2.8 MB/s eta 0:00:03\n",
      "   ------------- -------------------------- 3.7/11.0 MB 2.8 MB/s eta 0:00:03\n",
      "   ------------- -------------------------- 3.7/11.0 MB 2.8 MB/s eta 0:00:03\n",
      "   ------------- -------------------------- 3.7/11.0 MB 2.8 MB/s eta 0:00:03\n",
      "   ------------- -------------------------- 3.7/11.0 MB 2.8 MB/s eta 0:00:03\n",
      "   ------------- -------------------------- 3.7/11.0 MB 2.8 MB/s eta 0:00:03\n",
      "   -------------- ------------------------- 3.9/11.0 MB 1.3 MB/s eta 0:00:06\n",
      "   -------------- ------------------------- 3.9/11.0 MB 1.3 MB/s eta 0:00:06\n",
      "   -------------- ------------------------- 3.9/11.0 MB 1.3 MB/s eta 0:00:06\n",
      "   ---------------- ----------------------- 4.5/11.0 MB 1.2 MB/s eta 0:00:06\n",
      "   ---------------- ----------------------- 4.5/11.0 MB 1.2 MB/s eta 0:00:06\n",
      "   ------------------ --------------------- 5.0/11.0 MB 1.2 MB/s eta 0:00:06\n",
      "   ------------------- -------------------- 5.2/11.0 MB 1.2 MB/s eta 0:00:05\n",
      "   -------------------- ------------------- 5.5/11.0 MB 1.2 MB/s eta 0:00:05\n",
      "   -------------------- ------------------- 5.8/11.0 MB 1.2 MB/s eta 0:00:05\n",
      "   -------------------- ------------------- 5.8/11.0 MB 1.2 MB/s eta 0:00:05\n",
      "   --------------------- ------------------ 6.0/11.0 MB 1.2 MB/s eta 0:00:05\n",
      "   ---------------------- ----------------- 6.3/11.0 MB 1.2 MB/s eta 0:00:05\n",
      "   ---------------------- ----------------- 6.3/11.0 MB 1.2 MB/s eta 0:00:05\n",
      "   ------------------------ --------------- 6.8/11.0 MB 1.2 MB/s eta 0:00:04\n",
      "   ------------------------- -------------- 7.1/11.0 MB 1.2 MB/s eta 0:00:04\n",
      "   ------------------------- -------------- 7.1/11.0 MB 1.2 MB/s eta 0:00:04\n",
      "   ----------------------------- ---------- 8.1/11.0 MB 1.2 MB/s eta 0:00:03\n",
      "   -------------------------------- ------- 8.9/11.0 MB 1.3 MB/s eta 0:00:02\n",
      "   ------------------------------------ --- 10.0/11.0 MB 1.4 MB/s eta 0:00:01\n",
      "   ---------------------------------------  10.7/11.0 MB 1.5 MB/s eta 0:00:01\n",
      "   ---------------------------------------- 11.0/11.0 MB 1.5 MB/s  0:00:07\n",
      "Downloading matplotlib-3.10.7-cp313-cp313-win_amd64.whl (8.1 MB)\n",
      "   ---------------------------------------- 0.0/8.1 MB ? eta -:--:--\n",
      "   ----- ---------------------------------- 1.0/8.1 MB 5.2 MB/s eta 0:00:02\n",
      "   ------ --------------------------------- 1.3/8.1 MB 3.2 MB/s eta 0:00:03\n",
      "   ------------ --------------------------- 2.6/8.1 MB 4.2 MB/s eta 0:00:02\n",
      "   ---------------- ----------------------- 3.4/8.1 MB 3.9 MB/s eta 0:00:02\n",
      "   -------------------- ------------------- 4.2/8.1 MB 4.0 MB/s eta 0:00:01\n",
      "   ------------------------- -------------- 5.2/8.1 MB 4.0 MB/s eta 0:00:01\n",
      "   ----------------------------- ---------- 6.0/8.1 MB 4.0 MB/s eta 0:00:01\n",
      "   --------------------------------- ------ 6.8/8.1 MB 4.0 MB/s eta 0:00:01\n",
      "   ------------------------------------- -- 7.6/8.1 MB 4.1 MB/s eta 0:00:01\n",
      "   ---------------------------------------- 8.1/8.1 MB 4.0 MB/s  0:00:02\n",
      "Downloading contourpy-1.3.3-cp313-cp313-win_amd64.whl (226 kB)\n",
      "Downloading cycler-0.12.1-py3-none-any.whl (8.3 kB)\n",
      "Downloading fonttools-4.60.1-cp313-cp313-win_amd64.whl (2.3 MB)\n",
      "   ---------------------------------------- 0.0/2.3 MB ? eta -:--:--\n",
      "   ------------------ --------------------- 1.0/2.3 MB 5.8 MB/s eta 0:00:01\n",
      "   ---------------------------------------- 2.3/2.3 MB 5.2 MB/s  0:00:00\n",
      "Downloading kiwisolver-1.4.9-cp313-cp313-win_amd64.whl (73 kB)\n",
      "Downloading pillow-12.0.0-cp313-cp313-win_amd64.whl (7.0 MB)\n",
      "   ---------------------------------------- 0.0/7.0 MB ? eta -:--:--\n",
      "   -- ------------------------------------- 0.5/7.0 MB 3.3 MB/s eta 0:00:02\n",
      "   ----------- ---------------------------- 2.1/7.0 MB 5.2 MB/s eta 0:00:01\n",
      "   ------------------- -------------------- 3.4/7.0 MB 5.6 MB/s eta 0:00:01\n",
      "   -------------------------- ------------- 4.7/7.0 MB 5.7 MB/s eta 0:00:01\n",
      "   ---------------------------------- ----- 6.0/7.0 MB 5.8 MB/s eta 0:00:01\n",
      "   ---------------------------------------- 7.0/7.0 MB 5.7 MB/s  0:00:01\n",
      "Downloading pyparsing-3.2.5-py3-none-any.whl (113 kB)\n",
      "Downloading pytz-2025.2-py2.py3-none-any.whl (509 kB)\n",
      "Downloading tzdata-2025.2-py2.py3-none-any.whl (347 kB)\n",
      "Installing collected packages: pytz, tzdata, pyparsing, pillow, kiwisolver, fonttools, cycler, contourpy, pandas, matplotlib\n",
      "\n",
      "   ----------------------------------------  0/10 [pytz]\n",
      "   ----------------------------------------  0/10 [pytz]\n",
      "   ----------------------------------------  0/10 [pytz]\n",
      "   ----------------------------------------  0/10 [pytz]\n",
      "   ---- -----------------------------------  1/10 [tzdata]\n",
      "   ---- -----------------------------------  1/10 [tzdata]\n",
      "   ---- -----------------------------------  1/10 [tzdata]\n",
      "   ---- -----------------------------------  1/10 [tzdata]\n",
      "   ---- -----------------------------------  1/10 [tzdata]\n",
      "   ---- -----------------------------------  1/10 [tzdata]\n",
      "   -------- -------------------------------  2/10 [pyparsing]\n",
      "   ------------ ---------------------------  3/10 [pillow]\n",
      "   ------------ ---------------------------  3/10 [pillow]\n",
      "   ------------ ---------------------------  3/10 [pillow]\n",
      "   ------------ ---------------------------  3/10 [pillow]\n",
      "   ------------ ---------------------------  3/10 [pillow]\n",
      "   ------------ ---------------------------  3/10 [pillow]\n",
      "   ------------ ---------------------------  3/10 [pillow]\n",
      "   ---------------- -----------------------  4/10 [kiwisolver]\n",
      "   -------------------- -------------------  5/10 [fonttools]\n",
      "   -------------------- -------------------  5/10 [fonttools]\n",
      "   -------------------- -------------------  5/10 [fonttools]\n",
      "   -------------------- -------------------  5/10 [fonttools]\n",
      "   -------------------- -------------------  5/10 [fonttools]\n",
      "   -------------------- -------------------  5/10 [fonttools]\n",
      "   -------------------- -------------------  5/10 [fonttools]\n",
      "   -------------------- -------------------  5/10 [fonttools]\n",
      "   -------------------- -------------------  5/10 [fonttools]\n",
      "   -------------------- -------------------  5/10 [fonttools]\n",
      "   -------------------- -------------------  5/10 [fonttools]\n",
      "   -------------------- -------------------  5/10 [fonttools]\n",
      "   -------------------- -------------------  5/10 [fonttools]\n",
      "   -------------------- -------------------  5/10 [fonttools]\n",
      "   -------------------- -------------------  5/10 [fonttools]\n",
      "   -------------------- -------------------  5/10 [fonttools]\n",
      "   -------------------- -------------------  5/10 [fonttools]\n",
      "   -------------------- -------------------  5/10 [fonttools]\n",
      "   -------------------- -------------------  5/10 [fonttools]\n",
      "   -------------------- -------------------  5/10 [fonttools]\n",
      "   -------------------- -------------------  5/10 [fonttools]\n",
      "   ---------------------------- -----------  7/10 [contourpy]\n",
      "   -------------------------------- -------  8/10 [pandas]\n",
      "   -------------------------------- -------  8/10 [pandas]\n",
      "   -------------------------------- -------  8/10 [pandas]\n",
      "   -------------------------------- -------  8/10 [pandas]\n",
      "   -------------------------------- -------  8/10 [pandas]\n",
      "   -------------------------------- -------  8/10 [pandas]\n",
      "   -------------------------------- -------  8/10 [pandas]\n",
      "   -------------------------------- -------  8/10 [pandas]\n",
      "   -------------------------------- -------  8/10 [pandas]\n",
      "   -------------------------------- -------  8/10 [pandas]\n",
      "   -------------------------------- -------  8/10 [pandas]\n",
      "   -------------------------------- -------  8/10 [pandas]\n",
      "   -------------------------------- -------  8/10 [pandas]\n",
      "   -------------------------------- -------  8/10 [pandas]\n",
      "   -------------------------------- -------  8/10 [pandas]\n",
      "   -------------------------------- -------  8/10 [pandas]\n",
      "   -------------------------------- -------  8/10 [pandas]\n",
      "   -------------------------------- -------  8/10 [pandas]\n",
      "   -------------------------------- -------  8/10 [pandas]\n",
      "   -------------------------------- -------  8/10 [pandas]\n",
      "   -------------------------------- -------  8/10 [pandas]\n",
      "   -------------------------------- -------  8/10 [pandas]\n",
      "   -------------------------------- -------  8/10 [pandas]\n",
      "   -------------------------------- -------  8/10 [pandas]\n",
      "   -------------------------------- -------  8/10 [pandas]\n",
      "   -------------------------------- -------  8/10 [pandas]\n",
      "   -------------------------------- -------  8/10 [pandas]\n",
      "   -------------------------------- -------  8/10 [pandas]\n",
      "   -------------------------------- -------  8/10 [pandas]\n",
      "   -------------------------------- -------  8/10 [pandas]\n",
      "   -------------------------------- -------  8/10 [pandas]\n",
      "   -------------------------------- -------  8/10 [pandas]\n",
      "   -------------------------------- -------  8/10 [pandas]\n",
      "   -------------------------------- -------  8/10 [pandas]\n",
      "   -------------------------------- -------  8/10 [pandas]\n",
      "   -------------------------------- -------  8/10 [pandas]\n",
      "   -------------------------------- -------  8/10 [pandas]\n",
      "   -------------------------------- -------  8/10 [pandas]\n",
      "   -------------------------------- -------  8/10 [pandas]\n",
      "   -------------------------------- -------  8/10 [pandas]\n",
      "   -------------------------------- -------  8/10 [pandas]\n",
      "   -------------------------------- -------  8/10 [pandas]\n",
      "   -------------------------------- -------  8/10 [pandas]\n",
      "   -------------------------------- -------  8/10 [pandas]\n",
      "   -------------------------------- -------  8/10 [pandas]\n",
      "   -------------------------------- -------  8/10 [pandas]\n",
      "   -------------------------------- -------  8/10 [pandas]\n",
      "   -------------------------------- -------  8/10 [pandas]\n",
      "   -------------------------------- -------  8/10 [pandas]\n",
      "   -------------------------------- -------  8/10 [pandas]\n",
      "   -------------------------------- -------  8/10 [pandas]\n",
      "   -------------------------------- -------  8/10 [pandas]\n",
      "   -------------------------------- -------  8/10 [pandas]\n",
      "   -------------------------------- -------  8/10 [pandas]\n",
      "   -------------------------------- -------  8/10 [pandas]\n",
      "   -------------------------------- -------  8/10 [pandas]\n",
      "   -------------------------------- -------  8/10 [pandas]\n",
      "   -------------------------------- -------  8/10 [pandas]\n",
      "   -------------------------------- -------  8/10 [pandas]\n",
      "   -------------------------------- -------  8/10 [pandas]\n",
      "   -------------------------------- -------  8/10 [pandas]\n",
      "   -------------------------------- -------  8/10 [pandas]\n",
      "   -------------------------------- -------  8/10 [pandas]\n",
      "   -------------------------------- -------  8/10 [pandas]\n",
      "   -------------------------------- -------  8/10 [pandas]\n",
      "   -------------------------------- -------  8/10 [pandas]\n",
      "   -------------------------------- -------  8/10 [pandas]\n",
      "   -------------------------------- -------  8/10 [pandas]\n",
      "   -------------------------------- -------  8/10 [pandas]\n",
      "   -------------------------------- -------  8/10 [pandas]\n",
      "   -------------------------------- -------  8/10 [pandas]\n",
      "   -------------------------------- -------  8/10 [pandas]\n",
      "   -------------------------------- -------  8/10 [pandas]\n",
      "   -------------------------------- -------  8/10 [pandas]\n",
      "   -------------------------------- -------  8/10 [pandas]\n",
      "   -------------------------------- -------  8/10 [pandas]\n",
      "   -------------------------------- -------  8/10 [pandas]\n",
      "   -------------------------------- -------  8/10 [pandas]\n",
      "   -------------------------------- -------  8/10 [pandas]\n",
      "   -------------------------------- -------  8/10 [pandas]\n",
      "   -------------------------------- -------  8/10 [pandas]\n",
      "   -------------------------------- -------  8/10 [pandas]\n",
      "   -------------------------------- -------  8/10 [pandas]\n",
      "   -------------------------------- -------  8/10 [pandas]\n",
      "   -------------------------------- -------  8/10 [pandas]\n",
      "   -------------------------------- -------  8/10 [pandas]\n",
      "   -------------------------------- -------  8/10 [pandas]\n",
      "   -------------------------------- -------  8/10 [pandas]\n",
      "   -------------------------------- -------  8/10 [pandas]\n",
      "   -------------------------------- -------  8/10 [pandas]\n",
      "   -------------------------------- -------  8/10 [pandas]\n",
      "   -------------------------------- -------  8/10 [pandas]\n",
      "   -------------------------------- -------  8/10 [pandas]\n",
      "   -------------------------------- -------  8/10 [pandas]\n",
      "   -------------------------------- -------  8/10 [pandas]\n",
      "   -------------------------------- -------  8/10 [pandas]\n",
      "   -------------------------------- -------  8/10 [pandas]\n",
      "   -------------------------------- -------  8/10 [pandas]\n",
      "   -------------------------------- -------  8/10 [pandas]\n",
      "   -------------------------------- -------  8/10 [pandas]\n",
      "   -------------------------------- -------  8/10 [pandas]\n",
      "   -------------------------------- -------  8/10 [pandas]\n",
      "   -------------------------------- -------  8/10 [pandas]\n",
      "   -------------------------------- -------  8/10 [pandas]\n",
      "   -------------------------------- -------  8/10 [pandas]\n",
      "   -------------------------------- -------  8/10 [pandas]\n",
      "   -------------------------------- -------  8/10 [pandas]\n",
      "   -------------------------------- -------  8/10 [pandas]\n",
      "   -------------------------------- -------  8/10 [pandas]\n",
      "   -------------------------------- -------  8/10 [pandas]\n",
      "   -------------------------------- -------  8/10 [pandas]\n",
      "   -------------------------------- -------  8/10 [pandas]\n",
      "   -------------------------------- -------  8/10 [pandas]\n",
      "   -------------------------------- -------  8/10 [pandas]\n",
      "   -------------------------------- -------  8/10 [pandas]\n",
      "   ------------------------------------ ---  9/10 [matplotlib]\n",
      "   ------------------------------------ ---  9/10 [matplotlib]\n",
      "   ------------------------------------ ---  9/10 [matplotlib]\n",
      "   ------------------------------------ ---  9/10 [matplotlib]\n",
      "   ------------------------------------ ---  9/10 [matplotlib]\n",
      "   ------------------------------------ ---  9/10 [matplotlib]\n",
      "   ------------------------------------ ---  9/10 [matplotlib]\n",
      "   ------------------------------------ ---  9/10 [matplotlib]\n",
      "   ------------------------------------ ---  9/10 [matplotlib]\n",
      "   ------------------------------------ ---  9/10 [matplotlib]\n",
      "   ------------------------------------ ---  9/10 [matplotlib]\n",
      "   ------------------------------------ ---  9/10 [matplotlib]\n",
      "   ------------------------------------ ---  9/10 [matplotlib]\n",
      "   ------------------------------------ ---  9/10 [matplotlib]\n",
      "   ------------------------------------ ---  9/10 [matplotlib]\n",
      "   ------------------------------------ ---  9/10 [matplotlib]\n",
      "   ------------------------------------ ---  9/10 [matplotlib]\n",
      "   ------------------------------------ ---  9/10 [matplotlib]\n",
      "   ------------------------------------ ---  9/10 [matplotlib]\n",
      "   ------------------------------------ ---  9/10 [matplotlib]\n",
      "   ------------------------------------ ---  9/10 [matplotlib]\n",
      "   ------------------------------------ ---  9/10 [matplotlib]\n",
      "   ------------------------------------ ---  9/10 [matplotlib]\n",
      "   ------------------------------------ ---  9/10 [matplotlib]\n",
      "   ------------------------------------ ---  9/10 [matplotlib]\n",
      "   ------------------------------------ ---  9/10 [matplotlib]\n",
      "   ------------------------------------ ---  9/10 [matplotlib]\n",
      "   ------------------------------------ ---  9/10 [matplotlib]\n",
      "   ------------------------------------ ---  9/10 [matplotlib]\n",
      "   ------------------------------------ ---  9/10 [matplotlib]\n",
      "   ------------------------------------ ---  9/10 [matplotlib]\n",
      "   ------------------------------------ ---  9/10 [matplotlib]\n",
      "   ------------------------------------ ---  9/10 [matplotlib]\n",
      "   ------------------------------------ ---  9/10 [matplotlib]\n",
      "   ---------------------------------------- 10/10 [matplotlib]\n",
      "\n",
      "Successfully installed contourpy-1.3.3 cycler-0.12.1 fonttools-4.60.1 kiwisolver-1.4.9 matplotlib-3.10.7 pandas-2.3.3 pillow-12.0.0 pyparsing-3.2.5 pytz-2025.2 tzdata-2025.2\n"
     ]
    },
    {
     "name": "stderr",
     "output_type": "stream",
     "text": [
      "\n",
      "[notice] A new release of pip is available: 25.2 -> 25.3\n",
      "[notice] To update, run: python.exe -m pip install --upgrade pip\n"
     ]
    }
   ],
   "source": [
    "!pip install pandas matplotlib"
   ]
  },
  {
   "cell_type": "code",
   "execution_count": 9,
   "id": "5bf2dbfe",
   "metadata": {},
   "outputs": [],
   "source": [
    "import numpy as np\n",
    "import pandas as pd"
   ]
  },
  {
   "cell_type": "code",
   "execution_count": 24,
   "id": "5bbf293b",
   "metadata": {},
   "outputs": [
    {
     "data": {
      "application/vnd.microsoft.datawrangler.viewer.v0+json": {
       "columns": [
        {
         "name": "index",
         "rawType": "int64",
         "type": "integer"
        },
        {
         "name": "year",
         "rawType": "int64",
         "type": "integer"
        },
        {
         "name": "month",
         "rawType": "object",
         "type": "string"
        },
        {
         "name": "passengers",
         "rawType": "int64",
         "type": "integer"
        }
       ],
       "ref": "3a476253-79fc-496f-b5cc-6e08b01cb3cc",
       "rows": [
        [
         "0",
         "1949",
         "January",
         "112"
        ],
        [
         "1",
         "1949",
         "February",
         "118"
        ],
        [
         "2",
         "1949",
         "March",
         "132"
        ],
        [
         "3",
         "1949",
         "April",
         "129"
        ],
        [
         "4",
         "1949",
         "May",
         "121"
        ]
       ],
       "shape": {
        "columns": 3,
        "rows": 5
       }
      },
      "text/html": [
       "<div>\n",
       "<style scoped>\n",
       "    .dataframe tbody tr th:only-of-type {\n",
       "        vertical-align: middle;\n",
       "    }\n",
       "\n",
       "    .dataframe tbody tr th {\n",
       "        vertical-align: top;\n",
       "    }\n",
       "\n",
       "    .dataframe thead th {\n",
       "        text-align: right;\n",
       "    }\n",
       "</style>\n",
       "<table border=\"1\" class=\"dataframe\">\n",
       "  <thead>\n",
       "    <tr style=\"text-align: right;\">\n",
       "      <th></th>\n",
       "      <th>year</th>\n",
       "      <th>month</th>\n",
       "      <th>passengers</th>\n",
       "    </tr>\n",
       "  </thead>\n",
       "  <tbody>\n",
       "    <tr>\n",
       "      <th>0</th>\n",
       "      <td>1949</td>\n",
       "      <td>January</td>\n",
       "      <td>112</td>\n",
       "    </tr>\n",
       "    <tr>\n",
       "      <th>1</th>\n",
       "      <td>1949</td>\n",
       "      <td>February</td>\n",
       "      <td>118</td>\n",
       "    </tr>\n",
       "    <tr>\n",
       "      <th>2</th>\n",
       "      <td>1949</td>\n",
       "      <td>March</td>\n",
       "      <td>132</td>\n",
       "    </tr>\n",
       "    <tr>\n",
       "      <th>3</th>\n",
       "      <td>1949</td>\n",
       "      <td>April</td>\n",
       "      <td>129</td>\n",
       "    </tr>\n",
       "    <tr>\n",
       "      <th>4</th>\n",
       "      <td>1949</td>\n",
       "      <td>May</td>\n",
       "      <td>121</td>\n",
       "    </tr>\n",
       "  </tbody>\n",
       "</table>\n",
       "</div>"
      ],
      "text/plain": [
       "   year     month  passengers\n",
       "0  1949   January         112\n",
       "1  1949  February         118\n",
       "2  1949     March         132\n",
       "3  1949     April         129\n",
       "4  1949       May         121"
      ]
     },
     "execution_count": 24,
     "metadata": {},
     "output_type": "execute_result"
    }
   ],
   "source": [
    "#vamos a importar la base de datos de los vuelos \n",
    "df_vuelos = pd.read_csv(\"C:\\Users\\aurel\\Downloads\\flights.csv\")\n",
    "df_vuelos.head()\n"
   ]
  },
  {
   "cell_type": "code",
   "execution_count": 17,
   "id": "d3f778af",
   "metadata": {},
   "outputs": [
    {
     "name": "stdout",
     "output_type": "stream",
     "text": [
      "<class 'pandas.core.frame.DataFrame'>\n",
      "RangeIndex: 144 entries, 0 to 143\n",
      "Data columns (total 3 columns):\n",
      " #   Column      Non-Null Count  Dtype \n",
      "---  ------      --------------  ----- \n",
      " 0   year        144 non-null    int64 \n",
      " 1   month       144 non-null    object\n",
      " 2   passengers  144 non-null    int64 \n",
      "dtypes: int64(2), object(1)\n",
      "memory usage: 3.5+ KB\n",
      "=======\n",
      "----Numero de filas y columnas del dataset--- \n"
     ]
    },
    {
     "data": {
      "text/plain": [
       "(144, 3)"
      ]
     },
     "execution_count": 17,
     "metadata": {},
     "output_type": "execute_result"
    }
   ],
   "source": [
    "df_vuelos.info()\n",
    "print(\"=======\")\n",
    "print(\"----Numero de filas y columnas del dataset--- \")\n",
    "df_vuelos.shape #numero de los datos"
   ]
  },
  {
   "cell_type": "code",
   "execution_count": 18,
   "id": "7feb801c",
   "metadata": {},
   "outputs": [
    {
     "name": "stdout",
     "output_type": "stream",
     "text": [
      "Total de pasajeros: 40,363\n",
      "Promedio mensual: 280 pasajeros\n",
      "Récord de pasajeros: 622\n",
      "     year month  passengers\n",
      "138  1960  July         622\n"
     ]
    }
   ],
   "source": [
    "# Total de pasajeros en todo el periodo\n",
    "total_pasajeros = df_vuelos['passengers'].sum()\n",
    "print(f\"Total de pasajeros: {total_pasajeros:,}\")\n",
    "\n",
    "# Promedio de pasajeros por mes\n",
    "promedio_mes = df_vuelos['passengers'].mean()\n",
    "print(f\"Promedio mensual: {promedio_mes:,.0f} pasajeros\")\n",
    "\n",
    "# Mes con más pasajeros\n",
    "max_pasajeros = df_vuelos['passengers'].max()\n",
    "mes_max = df_vuelos[df_vuelos['passengers'] == max_pasajeros]\n",
    "print(f\"Récord de pasajeros: {max_pasajeros:,}\")\n",
    "print(mes_max)"
   ]
  },
  {
   "cell_type": "code",
   "execution_count": null,
   "id": "cad6bb80",
   "metadata": {},
   "outputs": [
    {
     "ename": "FileNotFoundError",
     "evalue": "[Errno 2] No such file or directory: 'tu_archivo.csv'",
     "output_type": "error",
     "traceback": [
      "\u001b[31m---------------------------------------------------------------------------\u001b[39m",
      "\u001b[31mFileNotFoundError\u001b[39m                         Traceback (most recent call last)",
      "\u001b[36mCell\u001b[39m\u001b[36m \u001b[39m\u001b[32mIn[20]\u001b[39m\u001b[32m, line 5\u001b[39m\n\u001b[32m      2\u001b[39m \u001b[38;5;28;01mimport\u001b[39;00m\u001b[38;5;250m \u001b[39m\u001b[34;01mmatplotlib\u001b[39;00m\u001b[34;01m.\u001b[39;00m\u001b[34;01mpyplot\u001b[39;00m\u001b[38;5;250m \u001b[39m\u001b[38;5;28;01mas\u001b[39;00m\u001b[38;5;250m \u001b[39m\u001b[34;01mplt\u001b[39;00m\n\u001b[32m      4\u001b[39m \u001b[38;5;66;03m# Cargar el archivo\u001b[39;00m\n\u001b[32m----> \u001b[39m\u001b[32m5\u001b[39m df = \u001b[43mpd\u001b[49m\u001b[43m.\u001b[49m\u001b[43mread_csv\u001b[49m\u001b[43m(\u001b[49m\u001b[33;43m'\u001b[39;49m\u001b[33;43mtu_archivo.csv\u001b[39;49m\u001b[33;43m'\u001b[39;49m\u001b[43m)\u001b[49m\n\u001b[32m      7\u001b[39m \u001b[38;5;66;03m# Ahora sí hacer la gráfica\u001b[39;00m\n\u001b[32m      8\u001b[39m df.plot(x=\u001b[33m'\u001b[39m\u001b[33myear\u001b[39m\u001b[33m'\u001b[39m, y=\u001b[33m'\u001b[39m\u001b[33mpassengers\u001b[39m\u001b[33m'\u001b[39m, kind=\u001b[33m'\u001b[39m\u001b[33mline\u001b[39m\u001b[33m'\u001b[39m)\n",
      "\u001b[36mFile \u001b[39m\u001b[32m/Library/Frameworks/Python.framework/Versions/3.13/lib/python3.13/site-packages/pandas/io/parsers/readers.py:1026\u001b[39m, in \u001b[36mread_csv\u001b[39m\u001b[34m(filepath_or_buffer, sep, delimiter, header, names, index_col, usecols, dtype, engine, converters, true_values, false_values, skipinitialspace, skiprows, skipfooter, nrows, na_values, keep_default_na, na_filter, verbose, skip_blank_lines, parse_dates, infer_datetime_format, keep_date_col, date_parser, date_format, dayfirst, cache_dates, iterator, chunksize, compression, thousands, decimal, lineterminator, quotechar, quoting, doublequote, escapechar, comment, encoding, encoding_errors, dialect, on_bad_lines, delim_whitespace, low_memory, memory_map, float_precision, storage_options, dtype_backend)\u001b[39m\n\u001b[32m   1013\u001b[39m kwds_defaults = _refine_defaults_read(\n\u001b[32m   1014\u001b[39m     dialect,\n\u001b[32m   1015\u001b[39m     delimiter,\n\u001b[32m   (...)\u001b[39m\u001b[32m   1022\u001b[39m     dtype_backend=dtype_backend,\n\u001b[32m   1023\u001b[39m )\n\u001b[32m   1024\u001b[39m kwds.update(kwds_defaults)\n\u001b[32m-> \u001b[39m\u001b[32m1026\u001b[39m \u001b[38;5;28;01mreturn\u001b[39;00m \u001b[43m_read\u001b[49m\u001b[43m(\u001b[49m\u001b[43mfilepath_or_buffer\u001b[49m\u001b[43m,\u001b[49m\u001b[43m \u001b[49m\u001b[43mkwds\u001b[49m\u001b[43m)\u001b[49m\n",
      "\u001b[36mFile \u001b[39m\u001b[32m/Library/Frameworks/Python.framework/Versions/3.13/lib/python3.13/site-packages/pandas/io/parsers/readers.py:620\u001b[39m, in \u001b[36m_read\u001b[39m\u001b[34m(filepath_or_buffer, kwds)\u001b[39m\n\u001b[32m    617\u001b[39m _validate_names(kwds.get(\u001b[33m\"\u001b[39m\u001b[33mnames\u001b[39m\u001b[33m\"\u001b[39m, \u001b[38;5;28;01mNone\u001b[39;00m))\n\u001b[32m    619\u001b[39m \u001b[38;5;66;03m# Create the parser.\u001b[39;00m\n\u001b[32m--> \u001b[39m\u001b[32m620\u001b[39m parser = \u001b[43mTextFileReader\u001b[49m\u001b[43m(\u001b[49m\u001b[43mfilepath_or_buffer\u001b[49m\u001b[43m,\u001b[49m\u001b[43m \u001b[49m\u001b[43m*\u001b[49m\u001b[43m*\u001b[49m\u001b[43mkwds\u001b[49m\u001b[43m)\u001b[49m\n\u001b[32m    622\u001b[39m \u001b[38;5;28;01mif\u001b[39;00m chunksize \u001b[38;5;129;01mor\u001b[39;00m iterator:\n\u001b[32m    623\u001b[39m     \u001b[38;5;28;01mreturn\u001b[39;00m parser\n",
      "\u001b[36mFile \u001b[39m\u001b[32m/Library/Frameworks/Python.framework/Versions/3.13/lib/python3.13/site-packages/pandas/io/parsers/readers.py:1620\u001b[39m, in \u001b[36mTextFileReader.__init__\u001b[39m\u001b[34m(self, f, engine, **kwds)\u001b[39m\n\u001b[32m   1617\u001b[39m     \u001b[38;5;28mself\u001b[39m.options[\u001b[33m\"\u001b[39m\u001b[33mhas_index_names\u001b[39m\u001b[33m\"\u001b[39m] = kwds[\u001b[33m\"\u001b[39m\u001b[33mhas_index_names\u001b[39m\u001b[33m\"\u001b[39m]\n\u001b[32m   1619\u001b[39m \u001b[38;5;28mself\u001b[39m.handles: IOHandles | \u001b[38;5;28;01mNone\u001b[39;00m = \u001b[38;5;28;01mNone\u001b[39;00m\n\u001b[32m-> \u001b[39m\u001b[32m1620\u001b[39m \u001b[38;5;28mself\u001b[39m._engine = \u001b[38;5;28;43mself\u001b[39;49m\u001b[43m.\u001b[49m\u001b[43m_make_engine\u001b[49m\u001b[43m(\u001b[49m\u001b[43mf\u001b[49m\u001b[43m,\u001b[49m\u001b[43m \u001b[49m\u001b[38;5;28;43mself\u001b[39;49m\u001b[43m.\u001b[49m\u001b[43mengine\u001b[49m\u001b[43m)\u001b[49m\n",
      "\u001b[36mFile \u001b[39m\u001b[32m/Library/Frameworks/Python.framework/Versions/3.13/lib/python3.13/site-packages/pandas/io/parsers/readers.py:1880\u001b[39m, in \u001b[36mTextFileReader._make_engine\u001b[39m\u001b[34m(self, f, engine)\u001b[39m\n\u001b[32m   1878\u001b[39m     \u001b[38;5;28;01mif\u001b[39;00m \u001b[33m\"\u001b[39m\u001b[33mb\u001b[39m\u001b[33m\"\u001b[39m \u001b[38;5;129;01mnot\u001b[39;00m \u001b[38;5;129;01min\u001b[39;00m mode:\n\u001b[32m   1879\u001b[39m         mode += \u001b[33m\"\u001b[39m\u001b[33mb\u001b[39m\u001b[33m\"\u001b[39m\n\u001b[32m-> \u001b[39m\u001b[32m1880\u001b[39m \u001b[38;5;28mself\u001b[39m.handles = \u001b[43mget_handle\u001b[49m\u001b[43m(\u001b[49m\n\u001b[32m   1881\u001b[39m \u001b[43m    \u001b[49m\u001b[43mf\u001b[49m\u001b[43m,\u001b[49m\n\u001b[32m   1882\u001b[39m \u001b[43m    \u001b[49m\u001b[43mmode\u001b[49m\u001b[43m,\u001b[49m\n\u001b[32m   1883\u001b[39m \u001b[43m    \u001b[49m\u001b[43mencoding\u001b[49m\u001b[43m=\u001b[49m\u001b[38;5;28;43mself\u001b[39;49m\u001b[43m.\u001b[49m\u001b[43moptions\u001b[49m\u001b[43m.\u001b[49m\u001b[43mget\u001b[49m\u001b[43m(\u001b[49m\u001b[33;43m\"\u001b[39;49m\u001b[33;43mencoding\u001b[39;49m\u001b[33;43m\"\u001b[39;49m\u001b[43m,\u001b[49m\u001b[43m \u001b[49m\u001b[38;5;28;43;01mNone\u001b[39;49;00m\u001b[43m)\u001b[49m\u001b[43m,\u001b[49m\n\u001b[32m   1884\u001b[39m \u001b[43m    \u001b[49m\u001b[43mcompression\u001b[49m\u001b[43m=\u001b[49m\u001b[38;5;28;43mself\u001b[39;49m\u001b[43m.\u001b[49m\u001b[43moptions\u001b[49m\u001b[43m.\u001b[49m\u001b[43mget\u001b[49m\u001b[43m(\u001b[49m\u001b[33;43m\"\u001b[39;49m\u001b[33;43mcompression\u001b[39;49m\u001b[33;43m\"\u001b[39;49m\u001b[43m,\u001b[49m\u001b[43m \u001b[49m\u001b[38;5;28;43;01mNone\u001b[39;49;00m\u001b[43m)\u001b[49m\u001b[43m,\u001b[49m\n\u001b[32m   1885\u001b[39m \u001b[43m    \u001b[49m\u001b[43mmemory_map\u001b[49m\u001b[43m=\u001b[49m\u001b[38;5;28;43mself\u001b[39;49m\u001b[43m.\u001b[49m\u001b[43moptions\u001b[49m\u001b[43m.\u001b[49m\u001b[43mget\u001b[49m\u001b[43m(\u001b[49m\u001b[33;43m\"\u001b[39;49m\u001b[33;43mmemory_map\u001b[39;49m\u001b[33;43m\"\u001b[39;49m\u001b[43m,\u001b[49m\u001b[43m \u001b[49m\u001b[38;5;28;43;01mFalse\u001b[39;49;00m\u001b[43m)\u001b[49m\u001b[43m,\u001b[49m\n\u001b[32m   1886\u001b[39m \u001b[43m    \u001b[49m\u001b[43mis_text\u001b[49m\u001b[43m=\u001b[49m\u001b[43mis_text\u001b[49m\u001b[43m,\u001b[49m\n\u001b[32m   1887\u001b[39m \u001b[43m    \u001b[49m\u001b[43merrors\u001b[49m\u001b[43m=\u001b[49m\u001b[38;5;28;43mself\u001b[39;49m\u001b[43m.\u001b[49m\u001b[43moptions\u001b[49m\u001b[43m.\u001b[49m\u001b[43mget\u001b[49m\u001b[43m(\u001b[49m\u001b[33;43m\"\u001b[39;49m\u001b[33;43mencoding_errors\u001b[39;49m\u001b[33;43m\"\u001b[39;49m\u001b[43m,\u001b[49m\u001b[43m \u001b[49m\u001b[33;43m\"\u001b[39;49m\u001b[33;43mstrict\u001b[39;49m\u001b[33;43m\"\u001b[39;49m\u001b[43m)\u001b[49m\u001b[43m,\u001b[49m\n\u001b[32m   1888\u001b[39m \u001b[43m    \u001b[49m\u001b[43mstorage_options\u001b[49m\u001b[43m=\u001b[49m\u001b[38;5;28;43mself\u001b[39;49m\u001b[43m.\u001b[49m\u001b[43moptions\u001b[49m\u001b[43m.\u001b[49m\u001b[43mget\u001b[49m\u001b[43m(\u001b[49m\u001b[33;43m\"\u001b[39;49m\u001b[33;43mstorage_options\u001b[39;49m\u001b[33;43m\"\u001b[39;49m\u001b[43m,\u001b[49m\u001b[43m \u001b[49m\u001b[38;5;28;43;01mNone\u001b[39;49;00m\u001b[43m)\u001b[49m\u001b[43m,\u001b[49m\n\u001b[32m   1889\u001b[39m \u001b[43m\u001b[49m\u001b[43m)\u001b[49m\n\u001b[32m   1890\u001b[39m \u001b[38;5;28;01massert\u001b[39;00m \u001b[38;5;28mself\u001b[39m.handles \u001b[38;5;129;01mis\u001b[39;00m \u001b[38;5;129;01mnot\u001b[39;00m \u001b[38;5;28;01mNone\u001b[39;00m\n\u001b[32m   1891\u001b[39m f = \u001b[38;5;28mself\u001b[39m.handles.handle\n",
      "\u001b[36mFile \u001b[39m\u001b[32m/Library/Frameworks/Python.framework/Versions/3.13/lib/python3.13/site-packages/pandas/io/common.py:873\u001b[39m, in \u001b[36mget_handle\u001b[39m\u001b[34m(path_or_buf, mode, encoding, compression, memory_map, is_text, errors, storage_options)\u001b[39m\n\u001b[32m    868\u001b[39m \u001b[38;5;28;01melif\u001b[39;00m \u001b[38;5;28misinstance\u001b[39m(handle, \u001b[38;5;28mstr\u001b[39m):\n\u001b[32m    869\u001b[39m     \u001b[38;5;66;03m# Check whether the filename is to be opened in binary mode.\u001b[39;00m\n\u001b[32m    870\u001b[39m     \u001b[38;5;66;03m# Binary mode does not support 'encoding' and 'newline'.\u001b[39;00m\n\u001b[32m    871\u001b[39m     \u001b[38;5;28;01mif\u001b[39;00m ioargs.encoding \u001b[38;5;129;01mand\u001b[39;00m \u001b[33m\"\u001b[39m\u001b[33mb\u001b[39m\u001b[33m\"\u001b[39m \u001b[38;5;129;01mnot\u001b[39;00m \u001b[38;5;129;01min\u001b[39;00m ioargs.mode:\n\u001b[32m    872\u001b[39m         \u001b[38;5;66;03m# Encoding\u001b[39;00m\n\u001b[32m--> \u001b[39m\u001b[32m873\u001b[39m         handle = \u001b[38;5;28;43mopen\u001b[39;49m\u001b[43m(\u001b[49m\n\u001b[32m    874\u001b[39m \u001b[43m            \u001b[49m\u001b[43mhandle\u001b[49m\u001b[43m,\u001b[49m\n\u001b[32m    875\u001b[39m \u001b[43m            \u001b[49m\u001b[43mioargs\u001b[49m\u001b[43m.\u001b[49m\u001b[43mmode\u001b[49m\u001b[43m,\u001b[49m\n\u001b[32m    876\u001b[39m \u001b[43m            \u001b[49m\u001b[43mencoding\u001b[49m\u001b[43m=\u001b[49m\u001b[43mioargs\u001b[49m\u001b[43m.\u001b[49m\u001b[43mencoding\u001b[49m\u001b[43m,\u001b[49m\n\u001b[32m    877\u001b[39m \u001b[43m            \u001b[49m\u001b[43merrors\u001b[49m\u001b[43m=\u001b[49m\u001b[43merrors\u001b[49m\u001b[43m,\u001b[49m\n\u001b[32m    878\u001b[39m \u001b[43m            \u001b[49m\u001b[43mnewline\u001b[49m\u001b[43m=\u001b[49m\u001b[33;43m\"\u001b[39;49m\u001b[33;43m\"\u001b[39;49m\u001b[43m,\u001b[49m\n\u001b[32m    879\u001b[39m \u001b[43m        \u001b[49m\u001b[43m)\u001b[49m\n\u001b[32m    880\u001b[39m     \u001b[38;5;28;01melse\u001b[39;00m:\n\u001b[32m    881\u001b[39m         \u001b[38;5;66;03m# Binary mode\u001b[39;00m\n\u001b[32m    882\u001b[39m         handle = \u001b[38;5;28mopen\u001b[39m(handle, ioargs.mode)\n",
      "\u001b[31mFileNotFoundError\u001b[39m: [Errno 2] No such file or directory: 'tu_archivo.csv'"
     ]
    }
   ],
   "source": []
  }
 ],
 "metadata": {
  "kernelspec": {
   "display_name": "Python 3",
   "language": "python",
   "name": "python3"
  },
  "language_info": {
   "codemirror_mode": {
    "name": "ipython",
    "version": 3
   },
   "file_extension": ".py",
   "mimetype": "text/x-python",
   "name": "python",
   "nbconvert_exporter": "python",
   "pygments_lexer": "ipython3",
   "version": "3.13.7"
  }
 },
 "nbformat": 4,
 "nbformat_minor": 5
}
