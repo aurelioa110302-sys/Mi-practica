{
 "cells": [
  {
   "cell_type": "markdown",
   "id": "4f85db8c",
   "metadata": {},
   "source": [
    "PANDAS ANALISIS DATA VUELOS "
   ]
  },
  {
   "cell_type": "code",
   "execution_count": 6,
   "id": "95322de1",
   "metadata": {},
   "outputs": [],
   "source": [
    "import numpy as np \n",
    "import pandas as pd "
   ]
  },
  {
   "cell_type": "code",
   "execution_count": 7,
   "id": "5bbf293b",
   "metadata": {},
   "outputs": [
    {
     "data": {
      "application/vnd.microsoft.datawrangler.viewer.v0+json": {
       "columns": [
        {
         "name": "index",
         "rawType": "int64",
         "type": "integer"
        },
        {
         "name": "year",
         "rawType": "int64",
         "type": "integer"
        },
        {
         "name": "month",
         "rawType": "object",
         "type": "string"
        },
        {
         "name": "passengers",
         "rawType": "int64",
         "type": "integer"
        }
       ],
       "ref": "84ef14c5-ee6a-4ae6-80bf-9606ac09c775",
       "rows": [
        [
         "0",
         "1949",
         "January",
         "112"
        ],
        [
         "1",
         "1949",
         "February",
         "118"
        ],
        [
         "2",
         "1949",
         "March",
         "132"
        ],
        [
         "3",
         "1949",
         "April",
         "129"
        ],
        [
         "4",
         "1949",
         "May",
         "121"
        ]
       ],
       "shape": {
        "columns": 3,
        "rows": 5
       }
      },
      "text/html": [
       "<div>\n",
       "<style scoped>\n",
       "    .dataframe tbody tr th:only-of-type {\n",
       "        vertical-align: middle;\n",
       "    }\n",
       "\n",
       "    .dataframe tbody tr th {\n",
       "        vertical-align: top;\n",
       "    }\n",
       "\n",
       "    .dataframe thead th {\n",
       "        text-align: right;\n",
       "    }\n",
       "</style>\n",
       "<table border=\"1\" class=\"dataframe\">\n",
       "  <thead>\n",
       "    <tr style=\"text-align: right;\">\n",
       "      <th></th>\n",
       "      <th>year</th>\n",
       "      <th>month</th>\n",
       "      <th>passengers</th>\n",
       "    </tr>\n",
       "  </thead>\n",
       "  <tbody>\n",
       "    <tr>\n",
       "      <th>0</th>\n",
       "      <td>1949</td>\n",
       "      <td>January</td>\n",
       "      <td>112</td>\n",
       "    </tr>\n",
       "    <tr>\n",
       "      <th>1</th>\n",
       "      <td>1949</td>\n",
       "      <td>February</td>\n",
       "      <td>118</td>\n",
       "    </tr>\n",
       "    <tr>\n",
       "      <th>2</th>\n",
       "      <td>1949</td>\n",
       "      <td>March</td>\n",
       "      <td>132</td>\n",
       "    </tr>\n",
       "    <tr>\n",
       "      <th>3</th>\n",
       "      <td>1949</td>\n",
       "      <td>April</td>\n",
       "      <td>129</td>\n",
       "    </tr>\n",
       "    <tr>\n",
       "      <th>4</th>\n",
       "      <td>1949</td>\n",
       "      <td>May</td>\n",
       "      <td>121</td>\n",
       "    </tr>\n",
       "  </tbody>\n",
       "</table>\n",
       "</div>"
      ],
      "text/plain": [
       "   year     month  passengers\n",
       "0  1949   January         112\n",
       "1  1949  February         118\n",
       "2  1949     March         132\n",
       "3  1949     April         129\n",
       "4  1949       May         121"
      ]
     },
     "execution_count": 7,
     "metadata": {},
     "output_type": "execute_result"
    }
   ],
   "source": [
    "#vamos a importar la base de datos de los vuelos \n",
    "df_vuelos = pd.read_csv(\"/Users/juanjoseh/Desktop/CURSO PHYNTON/Modulo_2/data/flights.csv\")\n",
    "df_vuelos.head()\n"
   ]
  },
  {
   "cell_type": "code",
   "execution_count": 8,
   "id": "d3f778af",
   "metadata": {},
   "outputs": [
    {
     "name": "stdout",
     "output_type": "stream",
     "text": [
      "<class 'pandas.core.frame.DataFrame'>\n",
      "RangeIndex: 144 entries, 0 to 143\n",
      "Data columns (total 3 columns):\n",
      " #   Column      Non-Null Count  Dtype \n",
      "---  ------      --------------  ----- \n",
      " 0   year        144 non-null    int64 \n",
      " 1   month       144 non-null    object\n",
      " 2   passengers  144 non-null    int64 \n",
      "dtypes: int64(2), object(1)\n",
      "memory usage: 3.5+ KB\n",
      "=======\n",
      "----Numero de filas y columnas del dataset--- \n"
     ]
    },
    {
     "data": {
      "text/plain": [
       "(144, 3)"
      ]
     },
     "execution_count": 8,
     "metadata": {},
     "output_type": "execute_result"
    }
   ],
   "source": [
    "df_vuelos.info()\n",
    "print(\"=======\")\n",
    "print(\"----Numero de filas y columnas del dataset--- \")\n",
    "df_vuelos.shape #numero de los datos"
   ]
  },
  {
   "cell_type": "code",
   "execution_count": 9,
   "id": "7feb801c",
   "metadata": {},
   "outputs": [
    {
     "name": "stdout",
     "output_type": "stream",
     "text": [
      "Total de pasajeros: 40,363\n",
      "Promedio mensual: 280 pasajeros\n",
      "Récord de pasajeros: 622\n",
      "     year month  passengers\n",
      "138  1960  July         622\n"
     ]
    }
   ],
   "source": [
    "# Total de pasajeros en todo el periodo\n",
    "total_pasajeros = df_vuelos['passengers'].sum()\n",
    "print(f\"Total de pasajeros: {total_pasajeros:,}\")\n",
    "\n",
    "# Promedio de pasajeros por mes\n",
    "promedio_mes = df_vuelos['passengers'].mean()\n",
    "print(f\"Promedio mensual: {promedio_mes:,.0f} pasajeros\")\n",
    "\n",
    "# Mes con más pasajeros\n",
    "max_pasajeros = df_vuelos['passengers'].max()\n",
    "mes_max = df_vuelos[df_vuelos['passengers'] == max_pasajeros]\n",
    "print(f\"Récord de pasajeros: {max_pasajeros:,}\")\n",
    "print(mes_max)"
   ]
  }
 ],
 "metadata": {
  "kernelspec": {
   "display_name": "Python 3",
   "language": "python",
   "name": "python3"
  },
  "language_info": {
   "codemirror_mode": {
    "name": "ipython",
    "version": 3
   },
   "file_extension": ".py",
   "mimetype": "text/x-python",
   "name": "python",
   "nbconvert_exporter": "python",
   "pygments_lexer": "ipython3",
   "version": "3.13.7"
  }
 },
 "nbformat": 4,
 "nbformat_minor": 5
}
